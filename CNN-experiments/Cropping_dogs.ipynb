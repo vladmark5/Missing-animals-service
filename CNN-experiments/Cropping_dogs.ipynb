{
 "cells": [
  {
   "cell_type": "code",
   "execution_count": 15,
   "metadata": {},
   "outputs": [],
   "source": [
    "import cv2\n",
    "import os\n",
    "import torch\n",
    "import keras\n",
    "import numpy as np\n",
    "import matplotlib.pyplot as plt\n",
    "%matplotlib inline\n",
    "from IPython.display import clear_output\n",
    "import glob"
   ]
  },
  {
   "cell_type": "code",
   "execution_count": 8,
   "metadata": {
    "scrolled": true
   },
   "outputs": [],
   "source": [
    "model = torch.hub.load('ultralytics/yolov5', 'yolov5s')\n",
    "model.classes = 16\n",
    "\n",
    "clear_output()"
   ]
  },
  {
   "cell_type": "code",
   "execution_count": 4,
   "metadata": {},
   "outputs": [
    {
     "data": {
      "text/plain": [
       "['.ipynb_checkpoints',\n",
       " 'DOG ONLY - multicolored - long tail',\n",
       " 'DOG ONLY - multicolored - short tail',\n",
       " 'DOG ONLY DARK LONG',\n",
       " 'DOG ONLY DARK SHORT',\n",
       " 'DOG ONLY LIGHT LONG',\n",
       " 'DOG ONLY LIGHT SHORT']"
      ]
     },
     "execution_count": 4,
     "metadata": {},
     "output_type": "execute_result"
    }
   ],
   "source": [
    "PATH_INIT = \"./data/DogCategories/\"\n",
    "PATH_SAVE = \"./data/DogCategories_cropped/\"\n",
    "dir_list = os.listdir(PATH_INIT)\n",
    "dir_list"
   ]
  },
  {
   "cell_type": "code",
   "execution_count": 22,
   "metadata": {},
   "outputs": [],
   "source": [
    "PATH_INIT = \"./data/DogCategories/\"\n",
    "PATH_SAVE = \"./data/DogCategories_cropped/\"\n",
    "dir_list = os.listdir(PATH_INIT)\n",
    "shapes = []\n",
    "for category in dir_list:\n",
    "    if category == '.ipynb_checkpoints':\n",
    "        continue\n",
    "    \n",
    "    category_dir = os.path.join(PATH_INIT, category)\n",
    "    category_save_dir = os.path.join(PATH_SAVE, category)\n",
    "    \n",
    "    images_list = os.listdir(category_dir)\n",
    "    images_list = list(filter(lambda x: x.endswith('.jpg') or x.endswith('.png'), images_list))\n",
    "    \n",
    "    for image_name in images_list:\n",
    "        try:\n",
    "            full_image_name = os.path.join(category_dir, image_name)\n",
    "            image = cv2.imread(full_image_name)\n",
    "            predict_result = model(full_image_name)\n",
    "        except Exception as e:\n",
    "            continue\n",
    "        \n",
    "        bb_doglist = eval(predict_result.pandas().xyxy[0].to_json(orient=\"records\"))\n",
    "        \n",
    "        if len(bb_doglist) == 0:\n",
    "            continue\n",
    "        elif len(bb_doglist) == 1:\n",
    "            image_cropped = image[int(bb_doglist[0]['ymin']):int(bb_doglist[0]['ymax']),int(bb_doglist[0]['xmin']):int(bb_doglist[0]['xmax'])]\n",
    "            plt.imsave(f\"{category_save_dir}/{image_name}\", image_cropped)\n",
    "            \n",
    "            flip_image_cropped = cv2.flip(image_cropped, 1)\n",
    "            plt.imsave(f\"{category_save_dir}/{image_name[:-4]}_fliped{image_name[-4:]}\", flip_image_cropped)\n",
    "        else:\n",
    "            counter = 1\n",
    "            for bb_dog in bb_doglist:\n",
    "                image_cropped = image[int(bb_dog['ymin']):int(bb_dog['ymax']),int(bb_dog['xmin']):int(bb_dog['xmax'])]\n",
    "                plt.imsave(f\"{category_save_dir}/{image_name[:-4]}_{counter}{image_name[-4:]}\", image_cropped)\n",
    "                \n",
    "                flip_image_cropped = cv2.flip(image_cropped, 1)\n",
    "                plt.imsave(f\"{category_save_dir}/{image_name[:-4]}_fliped_{counter}{image_name[-4:]}\", flip_image_cropped)\n",
    "                \n",
    "                counter += 1\n",
    "        shapes.append(image_cropped.shape)"
   ]
  },
  {
   "cell_type": "code",
   "execution_count": 18,
   "metadata": {},
   "outputs": [
    {
     "data": {
      "text/plain": [
       "array([     59.975,      70.172,           3])"
      ]
     },
     "execution_count": 18,
     "metadata": {},
     "output_type": "execute_result"
    }
   ],
   "source": [
    "np.mean(shapes, axis=0)"
   ]
  },
  {
   "cell_type": "code",
   "execution_count": 27,
   "metadata": {},
   "outputs": [],
   "source": [
    "img = \"./data/Experiment/JustSomeDog/138.jpg\"\n",
    "results = model(img)"
   ]
  },
  {
   "cell_type": "code",
   "execution_count": 28,
   "metadata": {},
   "outputs": [
    {
     "data": {
      "text/plain": [
       "[{'xmin': 428.4515686035,\n",
       "  'ymin': 581.0015258789,\n",
       "  'xmax': 457.1656188965,\n",
       "  'ymax': 615.214050293,\n",
       "  'confidence': 0.2609863281,\n",
       "  'class': 16,\n",
       "  'name': 'dog'}]"
      ]
     },
     "execution_count": 28,
     "metadata": {},
     "output_type": "execute_result"
    }
   ],
   "source": [
    "eval(results.pandas().xyxy[0].to_json(orient=\"records\"))"
   ]
  },
  {
   "cell_type": "code",
   "execution_count": null,
   "metadata": {},
   "outputs": [],
   "source": []
  }
 ],
 "metadata": {
  "kernelspec": {
   "display_name": "Python 3",
   "language": "python",
   "name": "python3"
  },
  "language_info": {
   "codemirror_mode": {
    "name": "ipython",
    "version": 3
   },
   "file_extension": ".py",
   "mimetype": "text/x-python",
   "name": "python",
   "nbconvert_exporter": "python",
   "pygments_lexer": "ipython3",
   "version": "3.7.4"
  }
 },
 "nbformat": 4,
 "nbformat_minor": 4
}
