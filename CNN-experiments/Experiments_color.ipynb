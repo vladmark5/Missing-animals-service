{
 "cells": [
  {
   "cell_type": "code",
   "execution_count": 1,
   "metadata": {},
   "outputs": [],
   "source": [
    "from __future__ import absolute_import, division, print_function, unicode_literals\n",
    "try:\n",
    "  # %tensorflow_version only exists in Colab.\n",
    "  %tensorflow_version 2.x\n",
    "except Exception:\n",
    "    pass\n",
    "import tensorflow as tf\n",
    "import keras\n",
    "from tensorflow.keras.preprocessing.image import ImageDataGenerator\n",
    "\n",
    "import os\n",
    "import numpy as np\n",
    "import matplotlib.pyplot as plt\n",
    "from IPython.display import clear_output\n",
    "import cv2\n",
    "import shutil\n",
    "import random\n",
    "from multiprocessing.pool import ThreadPool\n",
    "\n",
    "clear_output()"
   ]
  },
  {
   "cell_type": "code",
   "execution_count": 2,
   "metadata": {},
   "outputs": [],
   "source": [
    "config = {\n",
    "        \"model_name_local\":\"DogCategory_v1.1\",\n",
    "        \"note\":\"Модель предназнаена для определения категории к которой принадлежит собака\",\n",
    "        \"batch_size\":16,\n",
    "        \"input_image_height\":60,\n",
    "        \"input_image_weight\":70,\n",
    "        \"input_image_color_channels\":3,\n",
    "        \"dropout_value\": None,\n",
    "        \"epochs\":100,\n",
    "        \"ft_epochs\":100,\n",
    "        \"optimizer_name\":\"adam\",\n",
    "        \"loss\":\"categorical_crossentropy\",\n",
    "        \"learning_rate\": 0.01,\n",
    "        \"learning_rate_ft\": 0.001,\n",
    "        \"acc_metrics\":\"accuracy\",\n",
    "        \"validation_split\":0.2,\n",
    "        \"number_of_train_images\":512,\n",
    "        \"number_of_test_images\":127,\n",
    "        \"number_of_classes\":3,\n",
    "        \"augmentation\":True,\n",
    "        \"augmentation_description\":\"Горизонтальный переворот\"\n",
    "        }"
   ]
  },
  {
   "cell_type": "code",
   "execution_count": 3,
   "metadata": {},
   "outputs": [],
   "source": [
    "PATH = \"./data/2DogCategories_color_and_tail/color\""
   ]
  },
  {
   "cell_type": "code",
   "execution_count": 4,
   "metadata": {},
   "outputs": [],
   "source": [
    "def data_generator(PATH,batch_size,IMG_HEIGHT,IMG_WIDTH,validation_split,class_mode='categorical'):\n",
    "    \n",
    "    #Выделяем тренировочный и тестовый датасеты\n",
    "    train_dir = os.path.join(PATH)\n",
    "    \n",
    "    train_multicolored_dir = os.path.join(train_dir, 'only_multicolored')  \n",
    "    train_dark_dir = os.path.join(train_dir, 'only_dark') \n",
    "    train_light_dir = os.path.join(train_dir, 'only_light')  \n",
    "    \n",
    "    #Подсчитываем количество собак в каждом из классов\n",
    "    num_multicolored_tr = len(os.listdir(train_multicolored_dir))\n",
    "    num_dark_tr = len(os.listdir(train_dark_dir))\n",
    "    num_light_tr = len(os.listdir(train_light_dir))\n",
    "    \n",
    "    total_train = num_multicolored_tr + num_dark_tr + num_light_tr\n",
    "    step_per_epoch_test = (total_train * validation_split) // batch_size\n",
    "    step_per_epoch_train = (total_train - (total_train * validation_split)) // batch_size\n",
    "    print(\"|Total dogs per class|\")\n",
    "    print('|only_multicolored:', num_multicolored_tr)\n",
    "    print('|only_dark:', num_dark_tr)\n",
    "    print('|only_light:', num_light_tr)\n",
    "    print(\" \")\n",
    "    print(\"|Total photosets: {}|\".format(total_train))\n",
    "    print(\" \")\n",
    "    print(\"|Steps per epochs train: {}|\".format(step_per_epoch_train))\n",
    "    print(\"|Steps per epochs test: {}|\".format(step_per_epoch_test))\n",
    "    print(\"--------------------------\")\n",
    "    print(\" \")\n",
    "    print(\"Class mode:\", class_mode)\n",
    "    train_image_generator = ImageDataGenerator(rescale=1./255,\n",
    "                                               validation_split=validation_split) # Генератор для тренировочных данных\n",
    "    \n",
    "    print(\"Train DataGenerator:\")\n",
    "    train_data_gen = train_image_generator.flow_from_directory(batch_size=batch_size,\n",
    "                                                           directory=train_dir,\n",
    "                                                            color_mode=\"rgb\",\n",
    "                                                           shuffle=True,\n",
    "                                                           target_size=(IMG_HEIGHT, IMG_WIDTH),\n",
    "                                                           class_mode=class_mode,\n",
    "                                                              subset='training')\n",
    "    print(\" \")\n",
    "    print(\"Test DataGenerator:\")\n",
    "    val_data_gen = train_image_generator.flow_from_directory(batch_size=batch_size,\n",
    "                                                              directory=train_dir,\n",
    "                                                             color_mode=\"rgb\",\n",
    "                                                             shuffle=False,\n",
    "                                                              target_size=(IMG_HEIGHT, IMG_WIDTH),\n",
    "                                                              class_mode=class_mode,\n",
    "                                                            subset='validation')\n",
    "    return train_data_gen, val_data_gen, step_per_epoch_test, step_per_epoch_train"
   ]
  },
  {
   "cell_type": "code",
   "execution_count": 5,
   "metadata": {},
   "outputs": [
    {
     "name": "stdout",
     "output_type": "stream",
     "text": [
      "|Total dogs per class|\n",
      "|only_multicolored: 148\n",
      "|only_dark: 236\n",
      "|only_light: 255\n",
      " \n",
      "|Total photosets: 639|\n",
      " \n",
      "|Steps per epochs train: 31.0|\n",
      "|Steps per epochs test: 7.0|\n",
      "--------------------------\n",
      " \n",
      "Class mode: categorical\n",
      "Train DataGenerator:\n",
      "Found 512 images belonging to 3 classes.\n",
      " \n",
      "Test DataGenerator:\n",
      "Found 127 images belonging to 3 classes.\n"
     ]
    }
   ],
   "source": [
    "train_data_gen, val_data_gen, step_per_epoch_test, step_per_epoch_train  = data_generator(PATH,config['batch_size'],config['input_image_height'],config['input_image_weight'],config['validation_split'])"
   ]
  },
  {
   "cell_type": "code",
   "execution_count": 6,
   "metadata": {},
   "outputs": [
    {
     "data": {
      "image/png": "[encoded data removed]",
      "text/plain": [
       "<Figure size 1440x1440 with 5 Axes>"
      ]
     },
     "metadata": {
      "needs_background": "light"
     },
     "output_type": "display_data"
    }
   ],
   "source": [
    "sample_training_images, _ = next(train_data_gen)\n",
    "\n",
    "def plotImages(images_arr):\n",
    "    fig, axes = plt.subplots(1, 5, figsize=(20,20))\n",
    "    axes = axes.flatten()\n",
    "    for img, ax in zip( images_arr, axes):\n",
    "        ax.imshow(img)\n",
    "        ax.axis('off')\n",
    "    plt.tight_layout()\n",
    "    plt.show()\n",
    "plotImages(sample_training_images[:5])"
   ]
  },
  {
   "cell_type": "markdown",
   "metadata": {},
   "source": [
    "## Pretrained"
   ]
  },
  {
   "cell_type": "code",
   "execution_count": 7,
   "metadata": {},
   "outputs": [],
   "source": [
    "from tensorflow.keras.layers import Conv2D, MaxPooling2D, Flatten, Dense, Lambda, concatenate, Activation, Dropout\n",
    "from keras.models import Model, Sequential\n",
    "from tensorflow.keras.optimizers import Adam, SGD\n",
    "\n",
    "import keras\n",
    "from tensorflow.keras import layers"
   ]
  },
  {
   "cell_type": "code",
   "execution_count": 8,
   "metadata": {},
   "outputs": [],
   "source": [
    "from tensorflow.keras.applications import ResNet50V2\n",
    "\n",
    "RN = ResNet50V2(weights='imagenet', \n",
    "                  include_top=False,      \n",
    "                  input_shape=(60, 70, 3))\n",
    "RN.trainable = False               \n",
    "#MN.summary() "
   ]
  },
  {
   "cell_type": "code",
   "execution_count": 9,
   "metadata": {},
   "outputs": [
    {
     "name": "stdout",
     "output_type": "stream",
     "text": [
      "Model: \"sequential\"\n",
      "_________________________________________________________________\n",
      "Layer (type)                 Output Shape              Param #   \n",
      "=================================================================\n",
      "resnet50v2 (Functional)      (None, 2, 3, 2048)        23564800  \n",
      "_________________________________________________________________\n",
      "flatten (Flatten)            (None, 12288)             0         \n",
      "_________________________________________________________________\n",
      "dense (Dense)                (None, 256)               3145984   \n",
      "_________________________________________________________________\n",
      "dense_1 (Dense)              (None, 3)                 771       \n",
      "=================================================================\n",
      "Total params: 26,711,555\n",
      "Trainable params: 3,146,755\n",
      "Non-trainable params: 23,564,800\n",
      "_________________________________________________________________\n"
     ]
    }
   ],
   "source": [
    "modelRN = Sequential()\n",
    "modelRN.add(RN)\n",
    "\n",
    "modelRN.add(Flatten())\n",
    "modelRN.add(Dense(256, activation='relu'))\n",
    "#modelRN.add(Dropout(0.5))\n",
    "modelRN.add(Dense(3, activation='softmax'))\n",
    "\n",
    "modelRN.compile(loss='categorical_crossentropy',\n",
    "              optimizer=Adam(lr=1e-5), \n",
    "              metrics=['accuracy'])\n",
    "\n",
    "modelRN.summary()"
   ]
  },
  {
   "cell_type": "code",
   "execution_count": 10,
   "metadata": {},
   "outputs": [
    {
     "name": "stdout",
     "output_type": "stream",
     "text": [
      "Epoch 1/100\n",
      "31/31 [==============================] - 8s 71ms/step - loss: 1.6077 - accuracy: 0.4298 - val_loss: 1.1534 - val_accuracy: 0.5893\n",
      "INFO:tensorflow:Assets written to: ./models/resnet_only_colors_v1.1/assets\n",
      "Epoch 2/100\n",
      "31/31 [==============================] - 1s 23ms/step - loss: 0.8725 - accuracy: 0.6600 - val_loss: 1.0714 - val_accuracy: 0.5893\n",
      "INFO:tensorflow:Assets written to: ./models/resnet_only_colors_v1.1/assets\n",
      "Epoch 3/100\n",
      "31/31 [==============================] - 1s 23ms/step - loss: 0.5544 - accuracy: 0.7773 - val_loss: 1.0206 - val_accuracy: 0.5804\n",
      "INFO:tensorflow:Assets written to: ./models/resnet_only_colors_v1.1/assets\n",
      "Epoch 4/100\n",
      "31/31 [==============================] - 1s 24ms/step - loss: 0.4772 - accuracy: 0.8094 - val_loss: 1.0085 - val_accuracy: 0.5982\n",
      "INFO:tensorflow:Assets written to: ./models/resnet_only_colors_v1.1/assets\n",
      "Epoch 5/100\n",
      "31/31 [==============================] - 1s 22ms/step - loss: 0.3608 - accuracy: 0.8977 - val_loss: 0.9594 - val_accuracy: 0.6339\n",
      "INFO:tensorflow:Assets written to: ./models/resnet_only_colors_v1.1/assets\n",
      "Epoch 6/100\n",
      "31/31 [==============================] - 1s 22ms/step - loss: 0.3225 - accuracy: 0.8973 - val_loss: 0.9712 - val_accuracy: 0.6339\n",
      "Epoch 7/100\n",
      "31/31 [==============================] - 1s 22ms/step - loss: 0.2421 - accuracy: 0.9529 - val_loss: 0.9725 - val_accuracy: 0.6429\n",
      "Epoch 8/100\n",
      "31/31 [==============================] - 1s 24ms/step - loss: 0.1939 - accuracy: 0.9711 - val_loss: 0.9535 - val_accuracy: 0.6607\n",
      "INFO:tensorflow:Assets written to: ./models/resnet_only_colors_v1.1/assets\n",
      "Epoch 9/100\n",
      "31/31 [==============================] - 1s 23ms/step - loss: 0.1689 - accuracy: 0.9780 - val_loss: 0.9437 - val_accuracy: 0.6696\n",
      "INFO:tensorflow:Assets written to: ./models/resnet_only_colors_v1.1/assets\n",
      "Epoch 10/100\n",
      "31/31 [==============================] - 1s 23ms/step - loss: 0.1493 - accuracy: 0.9795 - val_loss: 0.9608 - val_accuracy: 0.6518\n",
      "Epoch 11/100\n",
      "31/31 [==============================] - 1s 24ms/step - loss: 0.1414 - accuracy: 0.9906 - val_loss: 0.9539 - val_accuracy: 0.6518\n",
      "Epoch 12/100\n",
      "31/31 [==============================] - 1s 25ms/step - loss: 0.1202 - accuracy: 0.9865 - val_loss: 0.9705 - val_accuracy: 0.6607\n",
      "Epoch 13/100\n",
      "31/31 [==============================] - 1s 24ms/step - loss: 0.1025 - accuracy: 0.9956 - val_loss: 0.9574 - val_accuracy: 0.6607\n",
      "Epoch 14/100\n",
      "31/31 [==============================] - 1s 25ms/step - loss: 0.1148 - accuracy: 0.9886 - val_loss: 0.9669 - val_accuracy: 0.6607\n",
      "Epoch 15/100\n",
      "31/31 [==============================] - 1s 24ms/step - loss: 0.0818 - accuracy: 0.9995 - val_loss: 0.9696 - val_accuracy: 0.6607\n",
      "Epoch 16/100\n",
      "31/31 [==============================] - 1s 23ms/step - loss: 0.0775 - accuracy: 1.0000 - val_loss: 0.9746 - val_accuracy: 0.6786\n",
      "Epoch 17/100\n",
      "31/31 [==============================] - 1s 23ms/step - loss: 0.0732 - accuracy: 1.0000 - val_loss: 0.9790 - val_accuracy: 0.6786\n",
      "Epoch 18/100\n",
      "31/31 [==============================] - 1s 24ms/step - loss: 0.0655 - accuracy: 1.0000 - val_loss: 0.9789 - val_accuracy: 0.6786\n",
      "Epoch 19/100\n",
      "31/31 [==============================] - 1s 23ms/step - loss: 0.0643 - accuracy: 1.0000 - val_loss: 0.9828 - val_accuracy: 0.6875\n",
      "Epoch 20/100\n",
      "31/31 [==============================] - 1s 25ms/step - loss: 0.0669 - accuracy: 1.0000 - val_loss: 0.9895 - val_accuracy: 0.6964\n",
      "Epoch 21/100\n",
      "31/31 [==============================] - 1s 24ms/step - loss: 0.0576 - accuracy: 1.0000 - val_loss: 0.9896 - val_accuracy: 0.6964\n",
      "Epoch 22/100\n",
      "31/31 [==============================] - 1s 24ms/step - loss: 0.0467 - accuracy: 1.0000 - val_loss: 0.9914 - val_accuracy: 0.6964\n",
      "Epoch 23/100\n",
      "31/31 [==============================] - 1s 24ms/step - loss: 0.0452 - accuracy: 1.0000 - val_loss: 0.9915 - val_accuracy: 0.6964\n",
      "Epoch 24/100\n",
      "31/31 [==============================] - 1s 22ms/step - loss: 0.0430 - accuracy: 1.0000 - val_loss: 1.0003 - val_accuracy: 0.6964\n",
      "Epoch 25/100\n",
      "31/31 [==============================] - 1s 23ms/step - loss: 0.0396 - accuracy: 1.0000 - val_loss: 1.0057 - val_accuracy: 0.6964\n",
      "Epoch 26/100\n",
      "31/31 [==============================] - 1s 23ms/step - loss: 0.0340 - accuracy: 1.0000 - val_loss: 1.0059 - val_accuracy: 0.6875\n",
      "Epoch 27/100\n",
      "31/31 [==============================] - 1s 24ms/step - loss: 0.0336 - accuracy: 1.0000 - val_loss: 1.0139 - val_accuracy: 0.6875\n",
      "Epoch 28/100\n",
      "31/31 [==============================] - 1s 23ms/step - loss: 0.0315 - accuracy: 1.0000 - val_loss: 1.0130 - val_accuracy: 0.6875\n",
      "Epoch 29/100\n",
      "31/31 [==============================] - 1s 24ms/step - loss: 0.0299 - accuracy: 1.0000 - val_loss: 1.0173 - val_accuracy: 0.6875\n",
      "Epoch 30/100\n",
      "31/31 [==============================] - 1s 24ms/step - loss: 0.0278 - accuracy: 1.0000 - val_loss: 1.0234 - val_accuracy: 0.6875\n",
      "Epoch 31/100\n",
      "31/31 [==============================] - 1s 24ms/step - loss: 0.0263 - accuracy: 1.0000 - val_loss: 1.0228 - val_accuracy: 0.6875\n",
      "Epoch 32/100\n",
      "31/31 [==============================] - 1s 23ms/step - loss: 0.0281 - accuracy: 1.0000 - val_loss: 1.0273 - val_accuracy: 0.6875\n",
      "Epoch 33/100\n",
      "31/31 [==============================] - 1s 24ms/step - loss: 0.0225 - accuracy: 1.0000 - val_loss: 1.0292 - val_accuracy: 0.6875\n",
      "Epoch 34/100\n",
      "31/31 [==============================] - 1s 24ms/step - loss: 0.0228 - accuracy: 1.0000 - val_loss: 1.0343 - val_accuracy: 0.6875\n",
      "Epoch 35/100\n",
      "31/31 [==============================] - 1s 23ms/step - loss: 0.0202 - accuracy: 1.0000 - val_loss: 1.0377 - val_accuracy: 0.6875\n",
      "Epoch 36/100\n",
      "31/31 [==============================] - 1s 24ms/step - loss: 0.0204 - accuracy: 1.0000 - val_loss: 1.0420 - val_accuracy: 0.6875\n",
      "Epoch 37/100\n",
      "31/31 [==============================] - 1s 23ms/step - loss: 0.0189 - accuracy: 1.0000 - val_loss: 1.0442 - val_accuracy: 0.6875\n",
      "Epoch 38/100\n",
      "31/31 [==============================] - 1s 24ms/step - loss: 0.0197 - accuracy: 1.0000 - val_loss: 1.0457 - val_accuracy: 0.6875\n",
      "Epoch 39/100\n",
      "31/31 [==============================] - 1s 24ms/step - loss: 0.0188 - accuracy: 1.0000 - val_loss: 1.0482 - val_accuracy: 0.6875\n",
      "Epoch 00039: early stopping\n"
     ]
    }
   ],
   "source": [
    "es = keras.callbacks.EarlyStopping(monitor='val_loss', mode='min', verbose=1, patience=30) # Early stopping (stops training when validation doesn't improve for {patience} epochs)\n",
    "model_filepath = './models/resnet_only_colors_v1.1'\n",
    "save_best = keras.callbacks.ModelCheckpoint(model_filepath, monitor='val_loss', save_best_only=True, mode='min') # Saves the best version of the model to disk (as measured on the validation data set)\n",
    "history = modelRN.fit(\n",
    "        train_data_gen,\n",
    "        steps_per_epoch=step_per_epoch_train,\n",
    "        epochs=config[\"epochs\"],\n",
    "        validation_data=val_data_gen,\n",
    "        validation_steps=step_per_epoch_test,\n",
    "        #shuffle = True,\n",
    "        callbacks=[es, save_best])"
   ]
  },
  {
   "cell_type": "markdown",
   "metadata": {},
   "source": [
    "## 69,64% На ResNet"
   ]
  },
  {
   "cell_type": "code",
   "execution_count": 13,
   "metadata": {},
   "outputs": [
    {
     "name": "stdout",
     "output_type": "stream",
     "text": [
      "INFO:tensorflow:Using MirroredStrategy with devices ('/job:localhost/replica:0/task:0/device:GPU:0', '/job:localhost/replica:0/task:0/device:GPU:1')\n",
      "Number of devices: 2\n"
     ]
    }
   ],
   "source": [
    "from tensorflow.keras.applications import MobileNetV2\n",
    "from tensorflow.keras.applications import ResNet50V2\n",
    "\n",
    "from tensorflow.keras.layers import Conv2D, MaxPooling2D, Flatten, Dense, Lambda, concatenate\n",
    "from keras.models import Model\n",
    "from tensorflow.keras.optimizers import Adam, SGD\n",
    "\n",
    "import keras\n",
    "from tensorflow.keras import layers\n",
    "\n",
    "strategy = tf.distribute.MirroredStrategy()\n",
    "print('Number of devices: {}'.format(strategy.num_replicas_in_sync))"
   ]
  },
  {
   "cell_type": "code",
   "execution_count": 12,
   "metadata": {},
   "outputs": [],
   "source": [
    "def outer_product(x):\n",
    "    #Einstein Notation  [batch,1,1,depth] x [batch,1,1,depth] -> [batch,depth,depth]\n",
    "    phi_I = tf.einsum('ijkm,ijkn->imn',x[0],x[1])\n",
    "    \n",
    "    # Reshape from [batch_size,depth,depth] to [batch_size, depth*depth]\n",
    "    phi_I = tf.reshape(phi_I,[-1,x[0].shape[3]*x[1].shape[3]])\n",
    "    \n",
    "    # Divide by feature map size [sizexsize]\n",
    "    size1 = int(x[1].shape[1])\n",
    "    size2 = int(x[1].shape[2])\n",
    "    phi_I = tf.divide(phi_I, size1*size2)\n",
    "    \n",
    "    # Take signed square root of phi_I\n",
    "    y_ssqrt = tf.multiply(tf.sign(phi_I),tf.sqrt(tf.abs(phi_I)+1e-12))\n",
    "    \n",
    "    # Apply l2 normalization\n",
    "    z_l2 = tf.nn.l2_normalize(y_ssqrt, axis=1)\n",
    "    return z_l2\n",
    "\n",
    "def get_model_BCNN():\n",
    "    dropout_value = config['dropout_value']\n",
    "    input_shape = (config['input_image_height'], config['input_image_weight'], config['input_image_color_channels'])\n",
    "    \n",
    "    base_model_2 = ResNet50V2(include_top=False,input_shape=input_shape)    \n",
    "    base_model_2.trainable = False\n",
    "    base_model_2._name = \"base_model_2\"\n",
    "    print(\"Number of layers in the base model-2: \", len(base_model_2.layers))\n",
    "    \n",
    "    base_model_1 = MobileNetV2(include_top=False,input_shape=input_shape)    \n",
    "    base_model_1.trainable = False\n",
    "    base_model_1._name = \"base_model_1\"\n",
    "    print(\"Number of layers in the base model-1: \", len(base_model_1.layers))\n",
    "          \n",
    "    Input_1 = tf.keras.Input(input_shape)\n",
    "    d1 = base_model_1(Input_1)\n",
    "    d2 = base_model_2(Input_1)\n",
    "    \n",
    "    x = Lambda(outer_product, name = 'outer_product')([d1,d2])\n",
    "\n",
    "    out = Dense(3, activation = 'softmax')(x)\n",
    "\n",
    "    model_cancat = Model(inputs=Input_1, outputs=out)\n",
    "    model_cancat.compile(loss = config['loss'],\n",
    "              optimizer=Adam(learning_rate=config[\"learning_rate\"]), \n",
    "              metrics=['accuracy'])\n",
    "    return model_cancat"
   ]
  },
  {
   "cell_type": "code",
   "execution_count": 14,
   "metadata": {},
   "outputs": [
    {
     "name": "stdout",
     "output_type": "stream",
     "text": [
      "INFO:tensorflow:Reduce to /job:localhost/replica:0/task:0/device:CPU:0 then broadcast to ('/job:localhost/replica:0/task:0/device:CPU:0',).\n",
      "INFO:tensorflow:Reduce to /job:localhost/replica:0/task:0/device:CPU:0 then broadcast to ('/job:localhost/replica:0/task:0/device:CPU:0',).\n",
      "INFO:tensorflow:Reduce to /job:localhost/replica:0/task:0/device:CPU:0 then broadcast to ('/job:localhost/replica:0/task:0/device:CPU:0',).\n",
      "INFO:tensorflow:Reduce to /job:localhost/replica:0/task:0/device:CPU:0 then broadcast to ('/job:localhost/replica:0/task:0/device:CPU:0',).\n",
      "INFO:tensorflow:Reduce to /job:localhost/replica:0/task:0/device:CPU:0 then broadcast to ('/job:localhost/replica:0/task:0/device:CPU:0',).\n",
      "INFO:tensorflow:Reduce to /job:localhost/replica:0/task:0/device:CPU:0 then broadcast to ('/job:localhost/replica:0/task:0/device:CPU:0',).\n",
      "INFO:tensorflow:Reduce to /job:localhost/replica:0/task:0/device:CPU:0 then broadcast to ('/job:localhost/replica:0/task:0/device:CPU:0',).\n",
      "INFO:tensorflow:Reduce to /job:localhost/replica:0/task:0/device:CPU:0 then broadcast to ('/job:localhost/replica:0/task:0/device:CPU:0',).\n",
      "INFO:tensorflow:Reduce to /job:localhost/replica:0/task:0/device:CPU:0 then broadcast to ('/job:localhost/replica:0/task:0/device:CPU:0',).\n",
      "INFO:tensorflow:Reduce to /job:localhost/replica:0/task:0/device:CPU:0 then broadcast to ('/job:localhost/replica:0/task:0/device:CPU:0',).\n",
      "Number of layers in the base model-2:  190\n",
      "WARNING:tensorflow:`input_shape` is undefined or non-square, or `rows` is not in [96, 128, 160, 192, 224]. Weights for input shape (224, 224) will be loaded as the default.\n",
      "Number of layers in the base model-1:  154\n",
      "Model: \"model\"\n",
      "__________________________________________________________________________________________________\n",
      "Layer (type)                    Output Shape         Param #     Connected to                     \n",
      "==================================================================================================\n",
      "input_4 (InputLayer)            [(None, 60, 70, 3)]  0                                            \n",
      "__________________________________________________________________________________________________\n",
      "base_model_1 (Functional)       (None, 2, 3, 1280)   2257984     input_4[0][0]                    \n",
      "__________________________________________________________________________________________________\n",
      "base_model_2 (Functional)       (None, 2, 3, 2048)   23564800    input_4[0][0]                    \n",
      "__________________________________________________________________________________________________\n",
      "outer_product (Lambda)          (None, 2621440)      0           base_model_1[0][0]               \n",
      "                                                                 base_model_2[0][0]               \n",
      "__________________________________________________________________________________________________\n",
      "dense_2 (Dense)                 (None, 3)            7864323     outer_product[0][0]              \n",
      "==================================================================================================\n",
      "Total params: 33,687,107\n",
      "Trainable params: 7,864,323\n",
      "Non-trainable params: 25,822,784\n",
      "__________________________________________________________________________________________________\n"
     ]
    }
   ],
   "source": [
    "with strategy.scope():\n",
    "    model = get_model_BCNN()\n",
    "    model.summary()"
   ]
  },
  {
   "cell_type": "code",
   "execution_count": 15,
   "metadata": {},
   "outputs": [
    {
     "name": "stdout",
     "output_type": "stream",
     "text": [
      "Epoch 1/100\n",
      "INFO:tensorflow:batch_all_reduce: 2 all-reduces with algorithm = nccl, num_packs = 1\n",
      "INFO:tensorflow:batch_all_reduce: 2 all-reduces with algorithm = nccl, num_packs = 1\n",
      "31/31 [==============================] - 23s 210ms/step - loss: 1.0243 - accuracy: 0.5577 - val_loss: 1.0717 - val_accuracy: 0.7232\n",
      "INFO:tensorflow:Assets written to: ./models/b-cnn_only_color_v1.1/assets\n",
      "Epoch 2/100\n",
      "31/31 [==============================] - 2s 55ms/step - loss: 0.1265 - accuracy: 0.9709 - val_loss: 1.0887 - val_accuracy: 0.7679\n",
      "Epoch 3/100\n",
      "31/31 [==============================] - 2s 55ms/step - loss: 0.0320 - accuracy: 0.9887 - val_loss: 0.9981 - val_accuracy: 0.7411\n",
      "INFO:tensorflow:Assets written to: ./models/b-cnn_only_color_v1.1/assets\n",
      "Epoch 4/100\n",
      "31/31 [==============================] - 2s 57ms/step - loss: 0.0051 - accuracy: 1.0000 - val_loss: 1.0133 - val_accuracy: 0.7679\n",
      "Epoch 5/100\n",
      "31/31 [==============================] - 2s 56ms/step - loss: 0.0029 - accuracy: 1.0000 - val_loss: 1.0236 - val_accuracy: 0.7679\n",
      "Epoch 6/100\n",
      "31/31 [==============================] - 2s 57ms/step - loss: 0.0023 - accuracy: 1.0000 - val_loss: 1.0320 - val_accuracy: 0.7679\n",
      "Epoch 7/100\n",
      "31/31 [==============================] - 2s 57ms/step - loss: 0.0019 - accuracy: 1.0000 - val_loss: 1.0410 - val_accuracy: 0.7679\n",
      "Epoch 8/100\n",
      "31/31 [==============================] - 2s 57ms/step - loss: 0.0018 - accuracy: 1.0000 - val_loss: 1.0488 - val_accuracy: 0.7679\n",
      "Epoch 9/100\n",
      "31/31 [==============================] - 2s 57ms/step - loss: 0.0016 - accuracy: 1.0000 - val_loss: 1.0556 - val_accuracy: 0.7679\n",
      "Epoch 10/100\n",
      "31/31 [==============================] - 2s 58ms/step - loss: 0.0012 - accuracy: 1.0000 - val_loss: 1.0614 - val_accuracy: 0.7679\n",
      "Epoch 11/100\n",
      "31/31 [==============================] - 2s 57ms/step - loss: 0.0012 - accuracy: 1.0000 - val_loss: 1.0694 - val_accuracy: 0.7679\n",
      "Epoch 12/100\n",
      "31/31 [==============================] - 2s 57ms/step - loss: 0.0012 - accuracy: 1.0000 - val_loss: 1.0735 - val_accuracy: 0.7679\n",
      "Epoch 13/100\n",
      "31/31 [==============================] - 2s 56ms/step - loss: 0.0011 - accuracy: 1.0000 - val_loss: 1.0823 - val_accuracy: 0.7679\n",
      "Epoch 14/100\n",
      "31/31 [==============================] - 2s 56ms/step - loss: 9.3626e-04 - accuracy: 1.0000 - val_loss: 1.0854 - val_accuracy: 0.7589\n",
      "Epoch 15/100\n",
      "31/31 [==============================] - 2s 56ms/step - loss: 9.1693e-04 - accuracy: 1.0000 - val_loss: 1.0912 - val_accuracy: 0.7500\n",
      "Epoch 16/100\n",
      "31/31 [==============================] - 2s 56ms/step - loss: 8.6005e-04 - accuracy: 1.0000 - val_loss: 1.0951 - val_accuracy: 0.7679\n",
      "Epoch 17/100\n",
      "31/31 [==============================] - 2s 56ms/step - loss: 8.2436e-04 - accuracy: 1.0000 - val_loss: 1.1021 - val_accuracy: 0.7500\n",
      "Epoch 18/100\n",
      "31/31 [==============================] - 2s 55ms/step - loss: 7.9872e-04 - accuracy: 1.0000 - val_loss: 1.1070 - val_accuracy: 0.7589\n",
      "Epoch 19/100\n",
      "31/31 [==============================] - 2s 56ms/step - loss: 7.4322e-04 - accuracy: 1.0000 - val_loss: 1.1116 - val_accuracy: 0.7589\n",
      "Epoch 20/100\n",
      "31/31 [==============================] - 2s 57ms/step - loss: 5.9089e-04 - accuracy: 1.0000 - val_loss: 1.1154 - val_accuracy: 0.7500\n",
      "Epoch 21/100\n",
      "31/31 [==============================] - 2s 57ms/step - loss: 6.6553e-04 - accuracy: 1.0000 - val_loss: 1.1195 - val_accuracy: 0.7500\n",
      "Epoch 22/100\n",
      "31/31 [==============================] - 2s 54ms/step - loss: 6.2510e-04 - accuracy: 1.0000 - val_loss: 1.1239 - val_accuracy: 0.7500\n",
      "Epoch 23/100\n",
      "31/31 [==============================] - 2s 57ms/step - loss: 5.3398e-04 - accuracy: 1.0000 - val_loss: 1.1268 - val_accuracy: 0.7500\n",
      "Epoch 24/100\n",
      "31/31 [==============================] - 2s 58ms/step - loss: 5.2072e-04 - accuracy: 1.0000 - val_loss: 1.1300 - val_accuracy: 0.7500\n",
      "Epoch 25/100\n",
      "31/31 [==============================] - 2s 56ms/step - loss: 4.7893e-04 - accuracy: 1.0000 - val_loss: 1.1353 - val_accuracy: 0.7589\n",
      "Epoch 26/100\n",
      "31/31 [==============================] - 2s 56ms/step - loss: 4.9015e-04 - accuracy: 1.0000 - val_loss: 1.1381 - val_accuracy: 0.7500\n",
      "Epoch 27/100\n",
      "31/31 [==============================] - 2s 57ms/step - loss: 4.6905e-04 - accuracy: 1.0000 - val_loss: 1.1412 - val_accuracy: 0.7500\n",
      "Epoch 28/100\n",
      "31/31 [==============================] - 2s 55ms/step - loss: 4.0214e-04 - accuracy: 1.0000 - val_loss: 1.1450 - val_accuracy: 0.7500\n",
      "Epoch 29/100\n",
      "31/31 [==============================] - 2s 55ms/step - loss: 4.4521e-04 - accuracy: 1.0000 - val_loss: 1.1481 - val_accuracy: 0.7500\n",
      "Epoch 30/100\n",
      "31/31 [==============================] - 2s 54ms/step - loss: 3.8071e-04 - accuracy: 1.0000 - val_loss: 1.1510 - val_accuracy: 0.7411\n",
      "Epoch 31/100\n",
      "31/31 [==============================] - 2s 56ms/step - loss: 3.8795e-04 - accuracy: 1.0000 - val_loss: 1.1544 - val_accuracy: 0.7500\n",
      "Epoch 32/100\n",
      "31/31 [==============================] - 2s 57ms/step - loss: 3.8166e-04 - accuracy: 1.0000 - val_loss: 1.1571 - val_accuracy: 0.7411\n",
      "Epoch 33/100\n",
      "31/31 [==============================] - 2s 57ms/step - loss: 3.3214e-04 - accuracy: 1.0000 - val_loss: 1.1606 - val_accuracy: 0.7411\n",
      "Epoch 00033: early stopping\n"
     ]
    }
   ],
   "source": [
    "es = keras.callbacks.EarlyStopping(monitor='val_loss', mode='min', verbose=1, patience=30) # Early stopping (stops training when validation doesn't improve for {patience} epochs)\n",
    "model_filepath = './models/b-cnn_only_color_v1.1'\n",
    "save_best = keras.callbacks.ModelCheckpoint(model_filepath, monitor='val_loss', save_best_only=True, mode='min') # Saves the best version of the model to disk (as measured on the validation data set)\n",
    "history = model.fit(\n",
    "        train_data_gen,\n",
    "        steps_per_epoch=step_per_epoch_train,\n",
    "        epochs=config[\"epochs\"],\n",
    "        validation_data=val_data_gen,\n",
    "        validation_steps=step_per_epoch_test,\n",
    "        #shuffle = True,\n",
    "        callbacks=[es, save_best])"
   ]
  },
  {
   "cell_type": "markdown",
   "metadata": {},
   "source": [
    "## На B-CNN 76,79%"
   ]
  },
  {
   "cell_type": "code",
   "execution_count": 18,
   "metadata": {},
   "outputs": [
    {
     "data": {
      "image/png": "[encoded data removed]",
      "text/plain": [
       "<Figure size 576x576 with 2 Axes>"
      ]
     },
     "metadata": {
      "needs_background": "light"
     },
     "output_type": "display_data"
    }
   ],
   "source": [
    "acc = history.history['accuracy']\n",
    "val_acc = history.history['val_accuracy']\n",
    "\n",
    "loss = history.history['loss']\n",
    "val_loss = history.history['val_loss']\n",
    "\n",
    "epochs_range = range(len(acc))\n",
    "\n",
    "plt.figure(figsize=(8, 8))\n",
    "plt.subplot(1, 2, 1)\n",
    "plt.plot(epochs_range, acc, label='Training Accuracy')\n",
    "plt.plot(epochs_range, val_acc, label='Validation Accuracy')\n",
    "plt.legend(loc='lower right')\n",
    "plt.title('Training and Validation Accuracy')\n",
    "\n",
    "plt.subplot(1, 2, 2)\n",
    "plt.plot(epochs_range, loss, label='Training Loss')\n",
    "plt.plot(epochs_range, val_loss, label='Validation Loss')\n",
    "plt.legend(loc='upper right')\n",
    "plt.title('Training and Validation Loss')\n",
    "plt.show()"
   ]
  },
  {
   "cell_type": "code",
   "execution_count": 19,
   "metadata": {},
   "outputs": [],
   "source": [
    "from sklearn.metrics import classification_report, confusion_matrix\n",
    "import seaborn as sns\n",
    "\n",
    "with strategy.scope():\n",
    "#with tf.device('/cpu'):\n",
    "    Y_pred = model.predict(val_data_gen)\n",
    "    y_pred = np.argmax(Y_pred, axis=1)"
   ]
  },
  {
   "cell_type": "code",
   "execution_count": 20,
   "metadata": {},
   "outputs": [],
   "source": [
    "def plot_confusion_matrix(y_true,\n",
    "                          y_pred,\n",
    "                          classes,\n",
    "                          normalize=False,\n",
    "                          title='Confusion matrix',\n",
    "                          cmap=plt.cm.Blues):\n",
    "    \"\"\"\n",
    "    This function prints and plots the confusion matrix.\n",
    "    Normalization can be applied by setting `normalize=True`.\n",
    "    \"\"\"\n",
    "    cm = confusion_matrix(y_true, y_pred)\n",
    "    if normalize:\n",
    "        cm = cm / cm.astype(np.float).sum(axis=1)\n",
    "        print(\"Normalized confusion matrix\")\n",
    "    else:\n",
    "        print('Confusion matrix, without normalization')\n",
    "\n",
    "    #print(cm)\n",
    "    plt.imshow(cm, interpolation='nearest', cmap=cmap)\n",
    "    plt.title(title)\n",
    "    plt.colorbar()\n",
    "    tick_marks = np.arange(len(classes))\n",
    "    plt.xticks(tick_marks, classes, rotation=45)\n",
    "    plt.yticks(tick_marks, classes)\n",
    "    fmt = '.2f' if normalize else 'd'\n",
    "    thresh = cm.max() / 2.\n",
    "    for i, j in itertools.product(range(cm.shape[0]),   range(cm.shape[1])):\n",
    "        plt.text(j, i, format(cm[i, j], fmt),\n",
    "                 horizontalalignment=\"center\",\n",
    "                 color=\"white\" if cm[i, j] > thresh else \"black\")\n",
    "    plt.tight_layout()\n",
    "    plt.ylabel('True label')\n",
    "    plt.xlabel('Predicted label')\n",
    "    \n",
    "    plt.savefig('./saved_figure.png')\n",
    "    \n",
    "    image = cv2.imread(\"./saved_figure.png\")\n",
    "    return image"
   ]
  },
  {
   "cell_type": "code",
   "execution_count": 21,
   "metadata": {},
   "outputs": [
    {
     "name": "stdout",
     "output_type": "stream",
     "text": [
      "                   precision    recall  f1-score   support\n",
      "\n",
      "only_multicolored       0.75      0.87      0.80        47\n",
      "        only_dark       0.68      0.80      0.74        51\n",
      "       only_light       0.50      0.21      0.29        29\n",
      "\n",
      "        micro avg       0.69      0.69      0.69       127\n",
      "        macro avg       0.64      0.63      0.61       127\n",
      "     weighted avg       0.66      0.69      0.66       127\n",
      "\n"
     ]
    }
   ],
   "source": [
    "from sklearn.metrics import classification_report, confusion_matrix\n",
    "target_names = ['only_multicolored', 'only_dark', 'only_light']\n",
    "report = classification_report(val_data_gen.classes, y_pred, target_names=target_names)\n",
    "print(report)"
   ]
  },
  {
   "cell_type": "code",
   "execution_count": 22,
   "metadata": {},
   "outputs": [
    {
     "name": "stdout",
     "output_type": "stream",
     "text": [
      "Normalized confusion matrix\n"
     ]
    },
    {
     "data": {
      "image/png": "[encoded data removed]",
      "text/plain": [
       "<Figure size 432x288 with 2 Axes>"
      ]
     },
     "metadata": {
      "needs_background": "light"
     },
     "output_type": "display_data"
    }
   ],
   "source": [
    "from sklearn.metrics import classification_report, confusion_matrix\n",
    "import itertools\n",
    "import cv2\n",
    "target_names = ['only_multicolored', 'only_dark', 'only_light']\n",
    "image = plot_confusion_matrix(val_data_gen.classes, y_pred, target_names, normalize=True)"
   ]
  },
  {
   "cell_type": "code",
   "execution_count": null,
   "metadata": {},
   "outputs": [],
   "source": []
  }
 ],
 "metadata": {
  "kernelspec": {
   "display_name": "Python 3",
   "language": "python",
   "name": "python3"
  },
  "language_info": {
   "codemirror_mode": {
    "name": "ipython",
    "version": 3
   },
   "file_extension": ".py",
   "mimetype": "text/x-python",
   "name": "python",
   "nbconvert_exporter": "python",
   "pygments_lexer": "ipython3",
   "version": "3.7.4"
  }
 },
 "nbformat": 4,
 "nbformat_minor": 4
}
